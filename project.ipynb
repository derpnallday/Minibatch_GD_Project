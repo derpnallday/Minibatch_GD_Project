{
 "cells": [
  {
   "cell_type": "code",
   "execution_count": 3,
   "metadata": {},
   "outputs": [],
   "source": [
    "%matplotlib inline\n",
    "import time\n",
    "import matplotlib.pyplot as plt\n",
    "import numpy as np\n",
    "import mxnet as mx\n",
    "import random as rand\n",
    "from sklearn.datasets.samples_generator import make_blobs\n",
    "from utils import *\n",
    "np.set_printoptions(precision=3)"
   ]
  },
  {
   "cell_type": "markdown",
   "metadata": {},
   "source": [
    "# An Analysis of Mini Batch Gradient Descent"
   ]
  },
  {
   "cell_type": "markdown",
   "metadata": {},
   "source": [
    "## Introduction\n",
    "\n",
    "$\\;\\;\\;\\;\\;\\;$ Machine learning has become a emerging field in the field of computer science. Machine learning focuses on the optimization of complex functions; it looks to build a predictive model for a given problem by minimizing errors between predictions and actual data. Gradient descent is a common method used to iteratively reduce these errors each pass, making a prediction converge closer towards actual values. A problem for gradient descent in machine learning is computation time, as some problems contains large datasets which need to be computed over entirely. Mini batch gradient descent is a variation of gradient descent that aims to reduce computation time by preforming computations on a smaller subset of data rather than the entire set. This paper will walk you through the origins of mini batch gradient descent and how the method works on a given problem."
   ]
  },
  {
   "cell_type": "markdown",
   "metadata": {},
   "source": [
    "## Historical Context\n",
    "\n",
    "$\\;\\;\\;\\;\\;\\;$It is unknown who created mini batch gradient descent. However, the method originates from stochastic gradient descent and is considered to be a stochastic function. The idea of stochastic gradient descent was first described by the two statisticians Herbert Robbins and Sutton Monro. They published their paper _A Stochastic Approximation Method_ which described a method on how to solve for an expected value of $x$ using an iterative method. They found that for a given experiment with data $x$ where $M(x)$ is the expected value at level $x$, they can solve for an approximation $θ$ such that $θ=x$. They show that to solve for $θ$, you can choose a value of $x_1,..,x_r$ arbitrarily then update $x_n$ successively from previously computed $x_1,...,x_{n-1}$, $M(x),...,M(x_{n-1})$ and $M'(x)...,M'(x_{n-1})$. It is shown that this method as $n$ approaches infinity $x_n = θ$ which means that the method should yield an accurate prediction over infinite iterations. The authors also proved that the method converges quickly and can be computed easily for a given problem.\n",
    "\n",
    "$\\;\\;\\;\\;\\;\\;$Because computation of stochastic gradient descent over larger datasets are simple per iteration, it became very common in machine learning problems. However, stochastic gradient descent still had some downsides; Because it updates the model frequently at every example, it is sensitive to outliers and can cause the error to have high variance at each iteration. This may make it hard for the algorithm to settle on an error minimum for a given problem. To solve this problem, computer scientists created a variant of the stochastic method that instead of evaluating and updating the model on a single sample, it will instead update the model with a batch size of samples each iteration. By evaluating on batch as opposed to a singe sample, noisy data will have less of an effect on affecting the error term allowing for a smoother convergence towards an optimum and a more accurate prediction. It is for this reason that mini batch gradient descent has become the most common form of gradient descent in machine learning, sometimes being referred to as the stochastic gradient descent method."
   ]
  },
  {
   "cell_type": "markdown",
   "metadata": {},
   "source": [
    "## Description of Technique\n",
    "$\\;\\;\\;\\;\\;\\;$Mini batch gradient descent is a method that randomly samples a batch size of data points and computes the gradient of the batch for each iteration. The generic gradient descent method is slow to evaluate large datasets as it required evaluating the gradients over the entire dataset. On the other hand, stochastic gradient descent computes the gradient for a single sample of data, but the frequency of updates is computationally expensive and calculations are sensitive to noisy data. Mini batch gradient descent looks to minimize the downsides of both of these methods by batching as computing the gradient is easier and the convergence towards and optimum is smoother. \n",
    "\n",
    "### Equation\n",
    "\n",
    "$\\;\\;\\;\\;\\;\\;$In order to better understand the equation for mini batch gradient descent, let us first look at the general equation for stochastic gradient descent. The equation is as follows:\n",
    "![title](general_eq.png)\n",
    "where $f_{i}(x)$ is a loss function based on the training data instance indexed by $i$ and $n$ is the size of the dataset. The computational cost is linearly related to the size of $n$. The function is simply the sum of a finite number of functions.\n",
    "\n",
    "Within each iteration of stochastic gradient descent, the gradient is computed by taking a random sample i and computing the gradient for that point. This is can be used to estimate the total gradient since\n",
    "![title](gradient_eq.png)\n",
    "Instead of computing the gradient of a given sample $i$, mini batch gradient descent computes the gradient over a set of samples of a given batch size. The equation to compute the gradient of a batch is as follows:\n",
    "![title](minibatch_eq.png)\n",
    "where $|B|$ is the cardinality of the batch. As the $|B|$ increases, so does the cost to compute the gradient. This can be used to update the current weights of a given solution each iteration by the following equation\n",
    "![title](minibatch_update.png)\n",
    "Where $x$ is the weight matrix we are looking to optimize and $η$ is a predefined learning rate. Since the gradient of the batch is an unbiased estimator for the total gradient, we can use the the estimated gradient the same way stochastic gradient descent uses its gradient approximation.\n",
    "\n",
    "Because the stochastic gradient descent and mini batch gradient descent share the similar idea of estimating the gradient for a set of random samples, mini batch is a stochastic method and is sometimes referred to in machine learning as stochastic gradient descent.\n",
    "\n",
    "### Choosing the batch size\n",
    "$\\;\\;\\;\\;\\;\\;$When choosing a batch size for you algorithm, a few things must be taken in to consideration. As the batch size increases, the effect of noisy data on the gradient calculation is reduced, leading to a smother convergence towards an optimum. However, the larger the batch size, the more expensive it is to calculate the gradient at each step. This, mini batch gradient descent makes a compromise between a faster convergence and reduction of noise associated with the gradient update. Generally, batch sizes are selected based on computer architecture (base 2 numbers). It is up for the user to fine tune the batch size for their given problem.\n",
    "\n",
    "\n",
    "### Implementing algorithm\n",
    "\n",
    "$\\;\\;\\;\\;\\;\\;$When implementing an algorithm using the mini batch method, a user must define a list of parameters to feed the function. Mini batch gradient descent requires:\n",
    "\n",
    "1. η,  A learning rate parameter which determines the step size to move in the direction calculated gradient for each iteration. \n",
    "\n",
    "\n",
    "2. m, which specifies how many samples to compute the gradient over (batch size)\n",
    "\n",
    "\n",
    "3. X, the set of data to iterate over\n",
    "\n",
    "\n",
    "4. $θ_{0}$, the initial weights of function to be optimized (sometimes can be initialized randomly within function)\n",
    "\n",
    "\n",
    "5. S, Some stopping condition, generally a user will define the number of iterations to run or define a tolerance value\n",
    "\n",
    "Below is a pseudo-code implementation of mini batch gradient descent\n",
    "\n",
    "```python\n",
    "def mini_batch_gd(η, m, X, θ, epochs)\n",
    "    #run for number of epochs\n",
    "    for i in range(epochs):\n",
    "        #grab a random batch of batch size from data\n",
    "        for batch in get_batch(X, m)\n",
    "            #evaluate the gradient of batch with given loss fxn\n",
    "            grad = evaluate_gradient(loss_function, batch, θ)\n",
    "            #update weights of objective\n",
    "            θ = θ - η * grad\n",
    "    \n",
    "```"
   ]
  },
  {
   "cell_type": "markdown",
   "metadata": {},
   "source": [
    "## Example Implementations\n",
    "$\\;\\;\\;\\;\\;\\;$Below are two examples of how mini batch gradient descent can be implemented. For each, we will compare the convergence of the loss of mini batch gradient descent and normal stochastic gradient descent\n",
    "\n",
    "### Predfine a method for batching"
   ]
  },
  {
   "cell_type": "code",
   "execution_count": 42,
   "metadata": {},
   "outputs": [],
   "source": [
    "#generate random batch\n",
    "def next_batch(X, y, batchSize):   \n",
    "    # loop over our dataset `X` in mini-batches of size `batchSize`\n",
    "    for i in np.arange(0, X.shape[0], batchSize):\n",
    "        # yield a tuple of the current batched data and labels\n",
    "        yield (X[i:i + batchSize], y[i:i + batchSize]) "
   ]
  },
  {
   "cell_type": "markdown",
   "metadata": {},
   "source": [
    "## EXAMPLE 1: 2-class linear classification\n",
    "\n",
    "$\\;\\;\\;\\;\\;\\;$For the first example, we will use mini batch gradient descent to classify a set of objects. The data used will be classified into 2 distinct classes. The algorithm will attempt to reduce the error in classifying a given point by utilizing the mean squares equation. By calculating the weights of a given batch, the sigmoid function can be used as a discriminant function to classify a given sample $X_i$."
   ]
  },
  {
   "cell_type": "markdown",
   "metadata": {},
   "source": [
    "### Predefine a discriminate function"
   ]
  },
  {
   "cell_type": "code",
   "execution_count": 43,
   "metadata": {},
   "outputs": [],
   "source": [
    "#using sigmoid activation fxn for 2-way classification\n",
    "#for any given x, fxn will discriminate what class it belongs to\n",
    "def sigmoid_activation(x):\n",
    "    return 1.0 / (1 + np.exp(-x))       "
   ]
  },
  {
   "cell_type": "markdown",
   "metadata": {},
   "source": [
    "### Gradient descent algorithm for linear classification\n",
    "\n",
    "$\\;\\;\\;\\;\\;\\;$This implementation of mini batch gradient decent will find a set of weights $W$ such that if we look at any data point $X_{i}$, we can predict what class it belongs to by computing $X_{i} * W$ and passing it to the sigmoid function. It will run for a defined number of epochs and will calculate the gradient of data points of a given batch size. $W$ will update each iteration by multiplying the negative gradient by the learning rate. The weight matrix $W$ is initialized to random values at the start."
   ]
  },
  {
   "cell_type": "code",
   "execution_count": 5,
   "metadata": {},
   "outputs": [],
   "source": [
    "def mbd_linear(X, y, epochs, batch_size, learning_rate):\n",
    "    '''\n",
    "    Input:\n",
    "    X    = set of features (what we use to predict)\n",
    "    y    = the label (what we want to predict)\n",
    "    epochs  = number of itterations to run\n",
    "    batch_size = size of batch per itteration\n",
    "    learning_rate = step size of a itteration\n",
    "    \n",
    "    Returns:\n",
    "    W = predicted weights for discrimination line\n",
    "    lossHist = loss fxn value at each step\n",
    "    X = X with bias vector added\n",
    "    '''\n",
    "    \n",
    "    #merge bias into X vector\n",
    "    X = np.c_[np.ones((X.shape[0])), X]\n",
    "\n",
    "    #initilize weights\n",
    "    W = np.random.uniform(size=(X.shape[1],))\n",
    "    \n",
    "    #to graph effect of epoch overtime\n",
    "    lossHist = []\n",
    "    \n",
    "    for epoch in np.arange(0,epochs):\n",
    "        #find loss of epoch\n",
    "        eLoss = []\n",
    "        \n",
    "        #process batch\n",
    "        for (batchX, batchY) in next_batch(X,y, batch_size):\n",
    "            #apply weights to batch\n",
    "            wBatch = batchX.dot(W)\n",
    "            \n",
    "            #predict what class value is\n",
    "            pred = sigmoid_activation(wBatch)\n",
    "            \n",
    "            #find error difference from actual classification\n",
    "            error = pred - batchY\n",
    "      \n",
    "            #find total loss from sum of squares\n",
    "            loss = np.sum(error ** 2)\n",
    "            eLoss.append(loss)\n",
    "            \n",
    "            #calulate the gradient of the batch\n",
    "            gradient = batchX.T.dot(error) / batchX.shape[0]\n",
    "\n",
    "            #step in the gradient direction\n",
    "            W += -learning_rate * gradient\n",
    "            \n",
    "        #update loss history\n",
    "        lossHist.append(np.average(eLoss))   \n",
    "    \n",
    "    return W, lossHist, X"
   ]
  },
  {
   "cell_type": "markdown",
   "metadata": {},
   "source": [
    "### Run algorithm on dataset"
   ]
  },
  {
   "cell_type": "code",
   "execution_count": 17,
   "metadata": {
    "scrolled": false
   },
   "outputs": [
    {
     "data": {
      "image/png": "[encoded data removed]",
      "text/plain": [
       "<Figure size 432x288 with 1 Axes>"
      ]
     },
     "metadata": {
      "needs_background": "light"
     },
     "output_type": "display_data"
    },
    {
     "data": {
      "image/png": "[encoded data removed]",
      "text/plain": [
       "<Figure size 432x288 with 1 Axes>"
      ]
     },
     "metadata": {
      "needs_background": "light"
     },
     "output_type": "display_data"
    },
    {
     "data": {
      "image/png": "[encoded data removed]",
      "text/plain": [
       "<Figure size 432x288 with 1 Axes>"
      ]
     },
     "metadata": {
      "needs_background": "light"
     },
     "output_type": "display_data"
    },
    {
     "name": "stdout",
     "output_type": "stream",
     "text": [
      "Predicted weights\n",
      "\n",
      "[ 0.529 -1.214 -0.715]\n"
     ]
    }
   ],
   "source": [
    "# creates a set of n_samples of 2 different classifications\n",
    "# Y is either class 0 or 1\n",
    "(X, y) = make_blobs(n_samples=200, n_features=2, centers=2, cluster_std=2.5, random_state=25)\n",
    "\n",
    "#define some inputs for algorithm\n",
    "epochs = 100\n",
    "batch_size = 16\n",
    "learning_rate = 0.1\n",
    "\n",
    "#run algorithim\n",
    "W, lossHistory, X = mbd_linear(X, y, epochs, batch_size, learning_rate)\n",
    "\n",
    "\n",
    "W1, lossHistory1, X1 = mbd_linear(X, y, epochs, 1, learning_rate)\n",
    "\n",
    "#line of best fit using predicted weights\n",
    "Y = (-W[0] - (W[1] * X)) / W[2]\n",
    "\n",
    "# plot the original data along with our line of best fit\n",
    "plt.figure()\n",
    "plt.scatter(X[:, 1], X[:, 2], marker=\"o\", c=y)\n",
    "plt.plot(X, Y, \"r-\")\n",
    "\n",
    "# plot loss overtime\n",
    "fig = plt.figure()\n",
    "plt.plot(np.arange(0, epochs), lossHistory)\n",
    "fig.suptitle(\"Training Loss MBD\")\n",
    "plt.xlabel(\"Epoch #\")\n",
    "plt.ylabel(\"Loss\")\n",
    "plt.show()\n",
    "\n",
    "# plot loss for SGD\n",
    "fig = plt.figure()\n",
    "plt.plot(np.arange(0, epochs), lossHistory1)\n",
    "fig.suptitle(\"Training Loss SGD\")\n",
    "plt.xlabel(\"Epoch #\")\n",
    "plt.ylabel(\"Loss\")\n",
    "plt.show()\n",
    "\n",
    "print(\"Predicted weights\\n\")\n",
    "print(W)"
   ]
  },
  {
   "cell_type": "markdown",
   "metadata": {},
   "source": [
    "### Example 1 Observations\n",
    "\n",
    "$\\;\\;\\;\\;\\;\\;$The algorithm is able to find a W such that the error of classification is minimized. We can see from the first plot that the algorithm is able to classify the points based on their relative position to the line generated from W, however there is one noticeable outlier. Plot 2 shows that the optimal solution converges quickly for the first few iterations,then improvement slows drastically for each consecutive iteration. We can see that for this problem, stochastic gradient descent first converges quickly but tends to get slightly worse each consecutive iteration.\n"
   ]
  },
  {
   "cell_type": "markdown",
   "metadata": {},
   "source": [
    "## EXAMPLE 2: polynomial regression\n",
    "\n",
    "$\\;\\;\\;\\;\\;\\;$For this example, we will test a stochastic gradient descent method to fit a polynomial curve over a set of randomized data. The randomized data will be generated around the function:\n",
    "\n",
    "$\\;\\;\\;\\;\\;\\;f(x) = 1 + 0.5x - 0.5 x^2 - 0.2 x^3 - 0.1 x^4 $\n",
    "    \n",
    "and will use mean squares to calculate the error term. The algorithm will minimize the error between all points by solving the coefficients of the polynomial of a given dimension size.\n",
    "\n",
    "\n",
    "\n",
    "###  Gradient descent algorithm for polynomial regression\n",
    "\n",
    "$\\;\\;\\;\\;\\;\\;$This implementation of mini batch gradient decent will find a an equation with the set of coefficients $W$ such that the error between all data points $X$ is minimized. It will run for a defined number of epochs and will calculate the gradient of data points of a given batch size. $W$ will update each iteration by multiplying the negative gradient by the learning rate. The coefficient matrix $W$ is initialized to random values at the start."
   ]
  },
  {
   "cell_type": "code",
   "execution_count": 7,
   "metadata": {},
   "outputs": [],
   "source": [
    "#formats X values for polynomial of dimension dim\n",
    "def polynomial_features(x, dim):\n",
    "    return np.column_stack([x ** i for i in range(dim + 1)])\n",
    "\n",
    "def mbd_poly(X, y, dim, epoch, batch_size, learning_rate):\n",
    "    '''\n",
    "    Input:\n",
    "    X    = set of features (what we use to predict)\n",
    "    y    = the label (what we want to predict)\n",
    "    dim  = dimmension of polynomial to solve\n",
    "    epoch = number of itterations to run\n",
    "    batch_size = size of batch per itteration\n",
    "    learning_rate = step size of a itteration\n",
    "    \n",
    "    Returns:\n",
    "    W = predicted coefficients of polynomial\n",
    "    lossHist = loss fxn value at each step\n",
    "    '''\n",
    "    \n",
    "    #format input to fit polynomial of given dimmension\n",
    "    X = polynomial_features(X,dim)\n",
    "    \n",
    "    print(\"[INFO] starting training...\")\n",
    "    #initilize random weights\n",
    "    W = np.random.uniform(size=(dim+1,))\n",
    "    \n",
    "    #to graph effect of epoch\n",
    "    lossHist = []\n",
    "    \n",
    "    for epoch in np.arange(0,epochs):\n",
    "        #find loss of epoch\n",
    "        eLoss = []\n",
    "        \n",
    "        #process batch\n",
    "        for (batchX, batchY) in next_batch(X,y, batch_size):\n",
    "            #dot product of batch of features with weight\n",
    "            wBatch = batchX.dot(W)\n",
    "            \n",
    "            #find error difference from true dataset\n",
    "            error = wBatch - batchY\n",
    "      \n",
    "            #find total loss from sum of squares\n",
    "            loss = np.sum(error ** 2)\n",
    "            eLoss.append(loss)\n",
    "           \n",
    "            #calulate the gradient of the batch\n",
    "            gradient = batchX.T.dot(error) / batchX.shape[0]\n",
    "            \n",
    "            #step in the gradient direction\n",
    "            W += -learning_rate * gradient\n",
    "            \n",
    "        #update loss history\n",
    "        lossHist.append(np.average(eLoss))   \n",
    "    \n",
    "    return W, lossHist"
   ]
  },
  {
   "cell_type": "markdown",
   "metadata": {},
   "source": [
    "### Run algorithm on randomized data"
   ]
  },
  {
   "cell_type": "code",
   "execution_count": 41,
   "metadata": {
    "scrolled": false
   },
   "outputs": [
    {
     "name": "stdout",
     "output_type": "stream",
     "text": [
      "[INFO] starting training...\n",
      "[INFO] starting training...\n"
     ]
    },
    {
     "data": {
      "image/png": "[encoded data removed]",
      "text/plain": [
       "<Figure size 432x288 with 1 Axes>"
      ]
     },
     "metadata": {
      "needs_background": "light"
     },
     "output_type": "display_data"
    },
    {
     "data": {
      "image/png": "[encoded data removed]",
      "text/plain": [
       "<Figure size 432x288 with 1 Axes>"
      ]
     },
     "metadata": {
      "needs_background": "light"
     },
     "output_type": "display_data"
    },
    {
     "data": {
      "text/plain": [
       "<Figure size 432x288 with 0 Axes>"
      ]
     },
     "metadata": {},
     "output_type": "display_data"
    },
    {
     "data": {
      "image/png": "[encoded data removed]",
      "text/plain": [
       "<Figure size 432x288 with 1 Axes>"
      ]
     },
     "metadata": {
      "needs_background": "light"
     },
     "output_type": "display_data"
    },
    {
     "name": "stdout",
     "output_type": "stream",
     "text": [
      "\n",
      "predicted polynomial coefficients MBD\n",
      "[ 0.989  0.485 -0.467 -0.17  -0.112]\n",
      "\n",
      "actual coefficients\n",
      "[1, 0.5, -0.5, -0.2, -0.1]\n"
     ]
    },
    {
     "data": {
      "text/plain": [
       "<Figure size 432x288 with 0 Axes>"
      ]
     },
     "metadata": {},
     "output_type": "display_data"
    }
   ],
   "source": [
    "np.random.seed(int(time.time()))\n",
    "#fxn = 1 + 0.5 * x - 0.5 x^2 - 0.2 x^3 - 0.1 x^4\n",
    "coeffs = [1, 0.5, -0.5, -0.2, -0.1]\n",
    "#generate random data around the curve\n",
    "x, y = polynomial_data(coeffs, 200)\n",
    "#show random data\n",
    "\n",
    "#formating\n",
    "y = y.ravel()\n",
    "\n",
    "#parameters for function\n",
    "epoch = 100\n",
    "dim = 4\n",
    "batch_size = 8\n",
    "learning_rate = 0.1\n",
    "\n",
    "#run algorithm\n",
    "W, lossHist = mbd_poly(x, y, dim, epoch, batch_size , learning_rate)\n",
    "W1, lossHist1 = mbd_poly(x, y, dim, epoch, 1 , learning_rate)\n",
    "\n",
    "#plot prediced curve, true curve, and data\n",
    "plt.scatter(x, y, color='green')\n",
    "plt.xlabel(\"x\")\n",
    "plt.ylabel(\"y\")\n",
    "plot_polynomial(W, color='blue', label='estimated polynomial')\n",
    "plt.legend()\n",
    "\n",
    "#plot error\n",
    "fig = plt.figure()\n",
    "plt.plot(np.arange(epoch), lossHist)\n",
    "fig.suptitle(\"Training Loss MBD\")\n",
    "plt.xlabel(\"Epoch #\")\n",
    "plt.ylabel(\"Loss\")\n",
    "plt.show()\n",
    "fig = plt.figure()\n",
    "\n",
    "#plot error\n",
    "fig = plt.figure()\n",
    "plt.plot(np.arange(epoch), lossHist)\n",
    "fig.suptitle(\"Training Loss SGD\")\n",
    "plt.xlabel(\"Epoch #\")\n",
    "plt.ylabel(\"Loss\")\n",
    "plt.show()\n",
    "fig = plt.figure()\n",
    "\n",
    "#compare W to actual coeffs\n",
    "print(\"\\npredicted polynomial coefficients MBD\")\n",
    "print(W.flatten())\n",
    "print(\"\\nactual coefficients\")\n",
    "print(coeffs)"
   ]
  },
  {
   "cell_type": "markdown",
   "metadata": {},
   "source": [
    "# Example 2 Observations\n",
    "\n",
    "$\\;\\;\\;\\;\\;\\;$The algorithm is able to find a W such that the error of between all points near the curve is minimized. We can see from the first plot that the algorithm is able to fit a curve over the dataset that is very close to the original function. Plot 2 shows that the optimal solution converges quickly for the first few iterations,then improvement slows drastically for each consecutive iteration. We can see that the convergence of both methods are relatively the same, for this example, meaning that there is not to much noise associated with the given data. We can see that the coefficients the algorithm computed are very close to the original function. Of course, the result is also highly dependent on the arrangement of the randomized data.\n"
   ]
  },
  {
   "cell_type": "markdown",
   "metadata": {},
   "source": [
    "## Conclusion\n",
    "\n",
    "$\\;\\;\\;\\;\\;\\;$Mini batch gradient descent will continue to be the most widely used method for gradient descent for machine learning algorithms due to its customizability with batch sizes. The ability to fine tune a batch size for a given problem allows a user to find an optimal configuration that allows for a smooth convergence towards an optimal solution while being able to reduce the impact of noisy data. "
   ]
  },
  {
   "cell_type": "markdown",
   "metadata": {},
   "source": [
    "## Biblography\n",
    "\n",
    "Herbert Robbins and Sutton Monro _A Stochastic Approximation Method_ The Annals of Mathematical Statistics, Vol. 22, No. 3. (Sep., 1951), pp. 400-407."
   ]
  }
 ],
 "metadata": {
  "kernelspec": {
   "display_name": "Python 3",
   "language": "python",
   "name": "python3"
  },
  "language_info": {
   "codemirror_mode": {
    "name": "ipython",
    "version": 3
   },
   "file_extension": ".py",
   "mimetype": "text/x-python",
   "name": "python",
   "nbconvert_exporter": "python",
   "pygments_lexer": "ipython3",
   "version": "3.6.8"
  }
 },
 "nbformat": 4,
 "nbformat_minor": 2
}
