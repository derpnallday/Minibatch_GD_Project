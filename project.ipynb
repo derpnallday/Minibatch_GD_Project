{
 "cells": [
  {
   "cell_type": "code",
   "execution_count": 51,
   "metadata": {},
   "outputs": [],
   "source": [
    "%matplotlib inline\n",
    "import time\n",
    "import matplotlib.pyplot as plt\n",
    "import numpy as np\n",
    "import mxnet as mx\n",
    "import random as rand\n",
    "from sklearn.datasets.samples_generator import make_blobs\n",
    "from utils import *\n",
    "np.set_printoptions(precision=3)"
   ]
  },
  {
   "cell_type": "markdown",
   "metadata": {},
   "source": [
    "Optimization Technique Paper\n",
    "\n",
    "In this class, we have only begun to scratch the surface of optimization techniques.  The simplex algorithmis a specialized method for linear programs.  However, if a linear program possesses certain special qualities,faster algorithms can be employed.  Additionally, linear programs with integer constraints cannot be easilytackled by the simplex algorithm.\n",
    "    \n",
    "For nonlinear optimization, the challenges become more severe and the solutions more specialized.  Spe-cialized  methods  for  quadratic  optimization  problems  and  quadratically  constrained  quadratic  programswere developed in the late 20th century.  We will talk a bit about methods for tackling constrained convexoptimization problems, but not in great depth.  General nonlinear problems present a seemingly impossiblechallenge.  And yet, algorithms are being developed to this day that perform well on nonconvex problems inspecific application areas (most notably:  machine learning and neural networks).\n",
    "    \n",
    "For this project, you will select an optimization method we did not discuss in depth in class.  See below forsome possible choices.  You will write a moderate length (5-10 page roughly) paper about this optimizationmethod.  Your paper should be typeset in LATEX.  It should accomplish the following goals:\n",
    "    \n",
    "    •Describe the origins of the method–Who first developed this method and for what problem(s)?–Include citations to primary source literature (peer-reviewed scientific papers) when possible\n",
    "    \n",
    "    •Describe what types of problems to which the method can or should be applied–What are the advantages of the method?  Disadvantages?\n",
    "    \n",
    "    •Demonstrate how to apply this problem to at leasttwoexample problems\n",
    "    \n",
    "        –This could be by hand or through the development of software,  depending on the context of theproblem\n",
    "    \n",
    "        –You  may  use  toy  problems  (small  simple  problems  that  are  most  useful  for  demonstrations),however extra credit will be awarded if you use the technique to solve a problem that would bevery challenging or impossible to solve in any other way\n",
    "    \n",
    "    •Comment upon the shortcomings of the method and any potential opportunities for improvement\n",
    "    \n",
    "If you accomplish the above goals (see also the rubric below for a more comprehensive outline of expectations)in fewer than five pages, you will still receive full credit.  Five to ten pages is simply a recommendation."
   ]
  },
  {
   "cell_type": "markdown",
   "metadata": {},
   "source": [
    "Historical Context (5 points)\n",
    "\n",
    "Optimization techniques are not developed in a vacuum.  These are problem-solving tools developed to solvespecific problems.  They are also inspired by or related to other preceding optimization techniques.  Thispaper should situate the described numerical method in the context of its time and include proper attribution(parenthetical citations and a bibliography).\n",
    "\n",
    "\n",
    "\n",
    "\n",
    "\n",
    "\n",
    "\n",
    "\n",
    "\n",
    "\n",
    "\n",
    "\n",
    "\n"
   ]
  },
  {
   "cell_type": "markdown",
   "metadata": {},
   "source": [
    "Description of Technique (20 points)\n",
    "\n",
    "The author should describe in general how the technique works.  This will require the author to describeor explicitly write the general form of the optimization problem for which this technique can be used anddescribein wordswhat specifically is done at each step.  Mathematical manipulations and formulae can beemployed, but the bulk of this section should be text!"
   ]
  },
  {
   "cell_type": "markdown",
   "metadata": {},
   "source": [
    "# EXAMPLE 1: 2-class linear classification\n",
    "\n",
    "For the first example, we will use stochastic gradient decent to classify a set of objects. The data used will be classified into 2 distinct classes. The algorithim will attempt to reduce the error in classifying a given point by utilizing the mean squares equation. By calculating the weights of a given batch, the sigmoid function can be used to classify a given X.\n",
    "\n",
    "\n"
   ]
  },
  {
   "cell_type": "markdown",
   "metadata": {},
   "source": [
    "### Predfine some usefull functions"
   ]
  },
  {
   "cell_type": "code",
   "execution_count": 48,
   "metadata": {},
   "outputs": [],
   "source": [
    "#using sigmoid activation fxn for classification\n",
    "def sigmoid_activation(x):\n",
    "    # compute and return the sigmoid activation for x\n",
    "    return 1.0 / (1 + np.exp(-x))\n",
    "\n",
    "#generate batches\n",
    "def next_batch(X, y, batchSize):\n",
    "    # loop over our dataset `X` in mini-batches of size `batchSize`\n",
    "    for i in np.arange(0, X.shape[0], batchSize):\n",
    "        # yield a tuple of the current batched data and labels\n",
    "        yield (X[i:i + batchSize], y[i:i + batchSize])        "
   ]
  },
  {
   "cell_type": "markdown",
   "metadata": {},
   "source": [
    "### Define stochastic gradient decent for linear regression"
   ]
  },
  {
   "cell_type": "code",
   "execution_count": 46,
   "metadata": {},
   "outputs": [],
   "source": [
    "def sgd_linear(X, y, epochs, batch_size, learning_rate):\n",
    "    '''\n",
    "    Input:\n",
    "    X    = set of features (what we use to predict)\n",
    "    y    = the label (what we want to predict)\n",
    "    epochs  = number of itterations to run\n",
    "    batch_size = size of batch per itteration\n",
    "    learning_rate = step size of a itteration\n",
    "    \n",
    "    Returns:\n",
    "    W = predicted coefficients of polynomial\n",
    "    lossHist = loss fxn value at each step\n",
    "    '''\n",
    "    \n",
    "    #merge bias into X vector\n",
    "    X = np.c_[np.ones((X.shape[0])), X]\n",
    "\n",
    "    #initilize weights\n",
    "    W = np.random.uniform(size=(X.shape[1],))\n",
    "    \n",
    "    #to graph effect of epoch overtime\n",
    "    lossHist = []\n",
    "    \n",
    "    for epoch in np.arange(0,epochs):\n",
    "        #find loss of epoch\n",
    "        eLoss = []\n",
    "        \n",
    "        #process batch\n",
    "        for (batchX, batchY) in next_batch(X,y, batch_size):\n",
    "            #dot product of batch of features with weight\n",
    "            wBatch = batchX.dot(W)\n",
    "            \n",
    "            #use activation function to classify value\n",
    "            pred = sigmoid_activation(wBatch)\n",
    "            \n",
    "            #find error difference from true dataset\n",
    "            error = pred - batchY\n",
    "      \n",
    "            #find total loss from sum of squares\n",
    "            loss = np.sum(error ** 2)\n",
    "            eLoss.append(loss)\n",
    "            \n",
    "            #calulate the gradient of the batch\n",
    "            gradient = batchX.T.dot(error) / batchX.shape[0]\n",
    "\n",
    "            #step in the gradient direction\n",
    "            W += -learning_rate * gradient\n",
    "            \n",
    "        #update loss history\n",
    "        lossHist.append(np.average(eLoss))   \n",
    "    \n",
    "    return W, lossHist, X"
   ]
  },
  {
   "cell_type": "markdown",
   "metadata": {},
   "source": [
    "### Run algorithim on dataset"
   ]
  },
  {
   "cell_type": "code",
   "execution_count": 50,
   "metadata": {
    "scrolled": false
   },
   "outputs": [
    {
     "data": {
      "image/png": "[encoded data removed]",
      "text/plain": [
       "<Figure size 432x288 with 1 Axes>"
      ]
     },
     "metadata": {
      "needs_background": "light"
     },
     "output_type": "display_data"
    },
    {
     "data": {
      "image/png": "[encoded data removed]",
      "text/plain": [
       "<Figure size 432x288 with 1 Axes>"
      ]
     },
     "metadata": {
      "needs_background": "light"
     },
     "output_type": "display_data"
    }
   ],
   "source": [
    "# creates a set of n_samples of 2 different classifications\n",
    "(X, y) = make_blobs(n_samples=200, n_features=2, centers=2, \n",
    "                    cluster_std=2.5, random_state=25)\n",
    "\n",
    "#define inputs for algorithim\n",
    "epochs = 100\n",
    "batch_size = 1\n",
    "learning_rate = 0.1\n",
    "\n",
    "#run SGD algorithim\n",
    "W, lossHistory, X = sgd_linear(X, y, epochs, batch_size, learning_rate)\n",
    "\n",
    "#line of best fit using predicted weights\n",
    "Y = (-W[0] - (W[1] * X)) / W[2]\n",
    "\n",
    "# plot the original data along with our line of best fit\n",
    "plt.figure()\n",
    "plt.scatter(X[:, 1], X[:, 2], marker=\"o\", c=y)\n",
    "plt.plot(X, Y, \"r-\")\n",
    "\n",
    "# plot loss overtime\n",
    "fig = plt.figure()\n",
    "plt.plot(np.arange(0, epochs), lossHistory)\n",
    "fig.suptitle(\"Training Loss\")\n",
    "plt.xlabel(\"Epoch #\")\n",
    "plt.ylabel(\"Loss\")\n",
    "plt.show()"
   ]
  },
  {
   "cell_type": "markdown",
   "metadata": {},
   "source": [
    "### Example 1 Observations\n",
    "\n",
    "The algorithim is able to find a W such that the error of classification is minimized. We can see from the first plot that the algorithim is able to classify the points based on their relative position to the line generated from W. Plot 2 shows that the optimal solution converges quickly for the first few itterations,then improvment slows drastically for each consecutive itteration.\n"
   ]
  },
  {
   "cell_type": "markdown",
   "metadata": {},
   "source": [
    "# EXAMPLE 2: polynomial regression\n",
    "\n",
    "For this example, we will test a stochastic gradient decent method on a dataset of randomized values around a predefined polynomial function \n",
    "\n",
    "    f(x) = 1 + 0.5 * x - 0.5 x^2 - 0.2 x^3 - 0.1 x^4 \n",
    "    \n",
    "using mean squares to calculate the error term. The algorithim will minimize the error between all points by solving the coefficients of the polynomial.\n",
    "\n",
    "\n",
    "\n",
    "### Define stochastic gradient decent algorithim for polynomial regression"
   ]
  },
  {
   "cell_type": "code",
   "execution_count": 49,
   "metadata": {},
   "outputs": [],
   "source": [
    "#formats X values for polynomial of dimension dim\n",
    "def polynomial_features(x, dim):\n",
    "    return np.column_stack([x ** i for i in range(dim + 1)])\n",
    "\n",
    "def sgd_poly(X, y, dim, epoch, batch_size, learning_rate):\n",
    "    '''\n",
    "    Input:\n",
    "    X    = set of features (what we use to predict)\n",
    "    y    = the label (what we want to predict)\n",
    "    dim  = dimmension of polynomial to solve\n",
    "    epoch = number of itterations to run\n",
    "    batch_size = size of batch per itteration\n",
    "    learning_rate = step size of a itteration\n",
    "    \n",
    "    Returns:\n",
    "    W = predicted coefficients of polynomial\n",
    "    lossHist = loss fxn value at each step\n",
    "    '''\n",
    "    \n",
    "    #format input to fit polynomial of given dimmension\n",
    "    X = polynomial_features(X,dim)\n",
    "    \n",
    "    print(\"[INFO] starting training...\")\n",
    "    #initilize random weights\n",
    "    W = np.random.uniform(size=(dim+1,))\n",
    "    \n",
    "    #to graph effect of epoch\n",
    "    lossHist = []\n",
    "    \n",
    "    for epoch in np.arange(0,epochs):\n",
    "        #find loss of epoch\n",
    "        eLoss = []\n",
    "        \n",
    "        #process batch\n",
    "        for (batchX, batchY) in next_batch(X,y, batch_size):\n",
    "            #dot product of batch of features with weight\n",
    "            wBatch = batchX.dot(W)\n",
    "            \n",
    "            #find error difference from true dataset\n",
    "            error = wBatch - batchY\n",
    "      \n",
    "            #find total loss from sum of squares\n",
    "            loss = np.sum(error ** 2)\n",
    "            eLoss.append(loss)\n",
    "           \n",
    "            #calulate the gradient of the batch\n",
    "            gradient = batchX.T.dot(error) / batchX.shape[0]\n",
    "            \n",
    "            #step in the gradient direction\n",
    "            W += -learning_rate * gradient\n",
    "            \n",
    "        #update loss history\n",
    "        lossHist.append(np.average(eLoss))   \n",
    "    \n",
    "    return W, lossHist\n",
    "\n",
    "\n"
   ]
  },
  {
   "cell_type": "markdown",
   "metadata": {},
   "source": [
    "### Run algorithim on randomized data"
   ]
  },
  {
   "cell_type": "code",
   "execution_count": 52,
   "metadata": {
    "scrolled": false
   },
   "outputs": [
    {
     "name": "stdout",
     "output_type": "stream",
     "text": [
      "[INFO] starting training...\n"
     ]
    },
    {
     "data": {
      "image/png": "[encoded data removed]",
      "text/plain": [
       "<Figure size 432x288 with 1 Axes>"
      ]
     },
     "metadata": {
      "needs_background": "light"
     },
     "output_type": "display_data"
    },
    {
     "data": {
      "image/png": "[encoded data removed]",
      "text/plain": [
       "<Figure size 432x288 with 1 Axes>"
      ]
     },
     "metadata": {
      "needs_background": "light"
     },
     "output_type": "display_data"
    },
    {
     "name": "stdout",
     "output_type": "stream",
     "text": [
      "predicted polynomial coefficients\n",
      "[ 0.93   0.489 -0.192 -0.168 -0.404]\n",
      "\n",
      "actual values\n",
      "[1, 0.5, -0.5, -0.2, -0.1]\n"
     ]
    },
    {
     "data": {
      "text/plain": [
       "<Figure size 432x288 with 0 Axes>"
      ]
     },
     "metadata": {},
     "output_type": "display_data"
    }
   ],
   "source": [
    "np.random.seed(int(time.time()))\n",
    "#fxn = 1 + 0.5 * x - 0.5 x^2 - 0.2 x^3 - 0.1 x^4\n",
    "coeffs = [1, 0.5, -0.5, -0.2, -0.1]\n",
    "#generate random data around the curve\n",
    "x, y = polynomial_data(coeffs, 100)\n",
    "#show random data\n",
    "\n",
    "y = y.ravel()\n",
    "\n",
    "epoch = 100\n",
    "dim = 4\n",
    "batch_size = 5\n",
    "learning_rate = 0.1\n",
    "\n",
    "W, lossHist = sgd_poly(x, y, dim, epoch, batch_size , \n",
    "                                    learning_rate)\n",
    "#plot prediced curve, true curve, and data\n",
    "plt.scatter(x, y, color='green')\n",
    "plt.xlabel(\"x\")\n",
    "plt.ylabel(\"y\")\n",
    "plot_polynomial(coeffs, color='red', label='true polynomial')\n",
    "plot_polynomial(W, color='blue', label='estimated polynomial')\n",
    "plt.legend()\n",
    "\n",
    "#plot error\n",
    "fig = plt.figure()\n",
    "plt.plot(np.arange(epoch), lossHist)\n",
    "fig.suptitle(\"Training Loss\")\n",
    "plt.xlabel(\"Epoch #\")\n",
    "plt.ylabel(\"Loss\")\n",
    "plt.show()\n",
    "\n",
    "fig = plt.figure()\n",
    "\n",
    "print(\"predicted polynomial coefficients\")\n",
    "print(W.flatten())\n",
    "print(\"\\nactual values\")\n",
    "print(coeffs)"
   ]
  },
  {
   "cell_type": "markdown",
   "metadata": {},
   "source": [
    "### Example 2 Observations\n",
    "\n",
    "The algorithim is able to find a W such that the error of between all points near the curve is minimized. We can see from the first plot that the algorithim is able to fit a curve over the dataset that is very close to the original function. Plot 2 shows that the optimal solution converges quickly for the first few itterations,then improvment slows drastically for each consecutive itteration. We can see that the coefficients the algorithim computed are very close to the original function.\n"
   ]
  },
  {
   "cell_type": "markdown",
   "metadata": {},
   "source": [
    "Quality of Writing and Mathematical Demonstration (10 points)\n",
    "\n",
    "Communicating about mathematical ideas in written form is a challenging skill to learn.  The author shouldpay attention to writing techniques in the process of producing this paper."
   ]
  }
 ],
 "metadata": {
  "kernelspec": {
   "display_name": "Python 3",
   "language": "python",
   "name": "python3"
  },
  "language_info": {
   "codemirror_mode": {
    "name": "ipython",
    "version": 3
   },
   "file_extension": ".py",
   "mimetype": "text/x-python",
   "name": "python",
   "nbconvert_exporter": "python",
   "pygments_lexer": "ipython3",
   "version": "3.6.8"
  }
 },
 "nbformat": 4,
 "nbformat_minor": 2
}
