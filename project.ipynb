{
 "cells": [
  {
   "cell_type": "code",
   "execution_count": 28,
   "metadata": {},
   "outputs": [],
   "source": [
    "%matplotlib inline\n",
    "import time\n",
    "import matplotlib.pyplot as plt\n",
    "import numpy as np\n",
    "import mxnet as mx\n",
    "import random as rand\n",
    "from sklearn.datasets.samples_generator import make_blobs\n",
    "from utils import *\n",
    "np.set_printoptions(precision=3)"
   ]
  },
  {
   "cell_type": "markdown",
   "metadata": {},
   "source": [
    "# An Analysis of Mini Batch Gradient Decent"
   ]
  },
  {
   "cell_type": "markdown",
   "metadata": {},
   "source": [
    "## Origin of Method\n",
    "\n",
    "$\\;\\;\\;\\;\\;\\;$ Mini batch gradient decent is a common machine learning algorithim used to optimize a given problem. The methodology of mini batch decent originates from the need to minimize the computation of gradient decent for large datasets. Originating from the idea of stochastic gradient decent, mini batch gradient decent computes a gradient for a set batch size of data points for each iteration, rather than just a single point. This method is the most widely used form of gradient decent for machine learning as batching generally leads to a more stable convergence and the computational cost for computing the gradient is smaller."
   ]
  },
  {
   "cell_type": "markdown",
   "metadata": {},
   "source": [
    "## Description of Technique\n",
    "$\\;\\;\\;\\;\\;\\;$Mini batch gradient decent is a method that randomly samples a batch size of data points and computes the gradient of the batch for each iteration. The generic gradient decent method is slow to evaluate large datasets as it required evaluating the gradients over the entire dataset. On the other hand, Stochastic gradient decent computes the gradient for a single sample of data, but the frequency of updates is computationally expensive and calculations are sensitive to noisy data. Mini batch gradient decent looks to minimize the downsides of both of these methods by batching as computing the gradient is easier and the convergence towards and optimum is smoother. \n",
    "\n",
    "$\\;\\;\\;\\;\\;\\;$In order to better understand the equation for mini batch gradient decent, let us first look at the general equation for stochastic gradient decent. The equation is as follows:\n",
    "\n",
    "\n",
    "![title](general_eq.png)\n",
    "where $f_{i}(x)$ is a loss function based on the training data instance indexed by $i$ and $n$ is the size of the dataset. The computational cost linearly related to the size of $n$. The function is simply the sum of a finite number of functions.\n",
    "\n",
    "\n",
    "Within each iteration of stochastic gradient decent, the gradient is computed by taking a random sample i and computing the gradient for that point. This is can be used to estimate the total gradient since\n",
    "\n",
    "![title](gradient_eq.png)\n",
    "Instead of computing the gradient of a given sample $i$, mini batch gradient decent computes the gradient over a set of samples of a given batch size. The equation to compute the gradient of a batch is as follows:\n",
    "\n",
    "![title](minibatch_eq.png)\n",
    "Where $|B|$ is the cardinality of the batch. As the $|B|$ increases, so does the cost to compute the gradient. This can be used to update the current weights of a given solution each iteration by the following equation\n",
    "\n",
    "![title](minibatch_update.png)\n",
    "Where $x$ is the weight matrix we are looking to optimize and $η$ is a predefined learning rate. Since the gradient of the batch is an unbiased estimator for the total gradient, we can use the the estimated gradient the same way stochastic gradient decent uses its gradient approximation.\n",
    "\n",
    "Because the stochastic gradient decent and mini batch gradient decent share the similar idea of estimating the gradient to reduce computation time, mini batch is a stochastic method and is sometimes referred to in machine learning as stochastic gradient decent.\n",
    "\n",
    "$\\;\\;\\;\\;\\;\\;$When implementing an algoritim using the mini batch method, a user must define a list of parameters to feed the function. Mini batch gradient decent requires:\n",
    "\n",
    "1. η,  A learning rate parameter which determines the step size to move in the direction calculated gradient for each iteration. \n",
    "\n",
    "\n",
    "2. m, which specifies how many samples to compute the gradient over (batch size)\n",
    "\n",
    "\n",
    "3. X, the set of data to iterate over\n",
    "\n",
    "\n",
    "4. $θ_{0}$, the initial weights of function to be optimized (sometimes can be initialized randomly within function)\n",
    "\n",
    "\n",
    "5. S, Some stopping condition, generally a user will define the number of iterations to run or define a tolerance value\n",
    "\n",
    "Below is a pseudo-code implementation of mini batch gradient decent\n",
    "\n",
    "```python\n",
    "def mini_batch_gd(η, m, X, θ, epochs)\n",
    "    #run for number of epochs\n",
    "    for i in range(epochs):\n",
    "        #grab a batch of batch size from data\n",
    "        for batch in get_batch(X, m)\n",
    "            #evaluate the gradient of batch with given loss fxn\n",
    "            grad = evaluate_gradient(loss_function, batch, θ)\n",
    "            #update weights of objective\n",
    "            θ = θ - η * grad\n",
    "    \n",
    "```"
   ]
  },
  {
   "cell_type": "markdown",
   "metadata": {},
   "source": [
    "## EXAMPLE 1: 2-class linear classification\n",
    "\n",
    "For the first example, we will use mini batch gradient decent to classify a set of objects. The data used will be classified into 2 distinct classes. The algorithim will attempt to reduce the error in classifying a given point by utilizing the mean squares equation. By calculating the weights of a given batch, the sigmoid function can be used to classify a given X."
   ]
  },
  {
   "cell_type": "markdown",
   "metadata": {},
   "source": [
    "### Predfine some usefull functions"
   ]
  },
  {
   "cell_type": "code",
   "execution_count": 29,
   "metadata": {},
   "outputs": [],
   "source": [
    "#using sigmoid activation fxn for 2-way classification\n",
    "#for any given x, fxn will discriminate what class it belongs to\n",
    "def sigmoid_activation(x):\n",
    "    return 1.0 / (1 + np.exp(-x))\n",
    "\n",
    "#generate random batch\n",
    "def next_batch(X, y, batchSize):\n",
    "    # loop over our dataset `X` in mini-batches of size `batchSize`\n",
    "    for i in np.arange(0, X.shape[0], batchSize):\n",
    "        # yield a tuple of the current batched data and labels\n",
    "        yield (X[i:i + batchSize], y[i:i + batchSize])        "
   ]
  },
  {
   "cell_type": "markdown",
   "metadata": {},
   "source": [
    "### Define gradient decent algorithim for linear regression"
   ]
  },
  {
   "cell_type": "code",
   "execution_count": 30,
   "metadata": {},
   "outputs": [],
   "source": [
    "def mbd_linear(X, y, epochs, batch_size, learning_rate):\n",
    "    '''\n",
    "    Input:\n",
    "    X    = set of features (what we use to predict)\n",
    "    y    = the label (what we want to predict)\n",
    "    epochs  = number of itterations to run\n",
    "    batch_size = size of batch per itteration\n",
    "    learning_rate = step size of a itteration\n",
    "    \n",
    "    Returns:\n",
    "    W = predicted weights for discrimination line\n",
    "    lossHist = loss fxn value at each step\n",
    "    X = X with bias vector added\n",
    "    '''\n",
    "    \n",
    "    #merge bias into X vector\n",
    "    X = np.c_[np.ones((X.shape[0])), X]\n",
    "\n",
    "    #initilize weights\n",
    "    W = np.random.uniform(size=(X.shape[1],))\n",
    "    \n",
    "    #to graph effect of epoch overtime\n",
    "    lossHist = []\n",
    "    \n",
    "    for epoch in np.arange(0,epochs):\n",
    "        #find loss of epoch\n",
    "        eLoss = []\n",
    "        \n",
    "        #process batch\n",
    "        for (batchX, batchY) in next_batch(X,y, batch_size):\n",
    "            #apply weights to batch\n",
    "            wBatch = batchX.dot(W)\n",
    "            \n",
    "            #predict what class value is\n",
    "            pred = sigmoid_activation(wBatch)\n",
    "            \n",
    "            #find error difference from actual classification\n",
    "            error = pred - batchY\n",
    "      \n",
    "            #find total loss from sum of squares\n",
    "            loss = np.sum(error ** 2)\n",
    "            eLoss.append(loss)\n",
    "            \n",
    "            #calulate the gradient of the batch\n",
    "            gradient = batchX.T.dot(error) / batchX.shape[0]\n",
    "\n",
    "            #step in the gradient direction\n",
    "            W += -learning_rate * gradient\n",
    "            \n",
    "        #update loss history\n",
    "        lossHist.append(np.average(eLoss))   \n",
    "    \n",
    "    return W, lossHist, X"
   ]
  },
  {
   "cell_type": "markdown",
   "metadata": {},
   "source": [
    "### Run algorithim on dataset"
   ]
  },
  {
   "cell_type": "code",
   "execution_count": 31,
   "metadata": {
    "scrolled": false
   },
   "outputs": [
    {
     "data": {
      "image/png": "[encoded data removed]",
      "text/plain": [
       "<Figure size 432x288 with 1 Axes>"
      ]
     },
     "metadata": {
      "needs_background": "light"
     },
     "output_type": "display_data"
    },
    {
     "data": {
      "image/png": "[encoded data removed]",
      "text/plain": [
       "<Figure size 432x288 with 1 Axes>"
      ]
     },
     "metadata": {
      "needs_background": "light"
     },
     "output_type": "display_data"
    },
    {
     "name": "stdout",
     "output_type": "stream",
     "text": [
      "Predicted weights\n",
      "\n",
      "[ 0.203 -1.192 -0.755]\n"
     ]
    }
   ],
   "source": [
    "# creates a set of n_samples of 2 different classifications\n",
    "# Y is either class 0 or 1\n",
    "(X, y) = make_blobs(n_samples=200, n_features=2, centers=2, cluster_std=2.5, random_state=25)\n",
    "\n",
    "#define some inputs for algorithim\n",
    "epochs = 100\n",
    "batch_size = 8\n",
    "learning_rate = 0.1\n",
    "\n",
    "#run SGD algorithim\n",
    "W, lossHistory, X = mbd_linear(X, y, epochs, batch_size, learning_rate)\n",
    "\n",
    "#line of best fit using predicted weights\n",
    "Y = (-W[0] - (W[1] * X)) / W[2]\n",
    "\n",
    "# plot the original data along with our line of best fit\n",
    "plt.figure()\n",
    "plt.scatter(X[:, 1], X[:, 2], marker=\"o\", c=y)\n",
    "plt.plot(X, Y, \"r-\")\n",
    "\n",
    "# plot loss overtime\n",
    "fig = plt.figure()\n",
    "plt.plot(np.arange(0, epochs), lossHistory)\n",
    "fig.suptitle(\"Training Loss\")\n",
    "plt.xlabel(\"Epoch #\")\n",
    "plt.ylabel(\"Loss\")\n",
    "plt.show()\n",
    "\n",
    "print(\"Predicted weights\\n\")\n",
    "print(W)"
   ]
  },
  {
   "cell_type": "markdown",
   "metadata": {},
   "source": [
    "### Example 1 Observations\n",
    "\n",
    "The algorithim is able to find a W such that the error of classification is minimized. We can see from the first plot that the algorithim is able to classify the points based on their relative position to the line generated from W, however there is one noticeable outlier. Plot 2 shows that the optimal solution converges quickly for the first few itterations,then improvment slows drastically for each consecutive itteration.\n"
   ]
  },
  {
   "cell_type": "markdown",
   "metadata": {},
   "source": [
    "## EXAMPLE 2: polynomial regression\n",
    "\n",
    "For this example, we will test a stochastic gradient decent method to fit a polynomial curve over a set of randomized data. The randomized data will be generated around the function:\n",
    "\n",
    "    f(x) = 1 + 0.5 * x - 0.5 x^2 - 0.2 x^3 - 0.1 x^4 \n",
    "    \n",
    "and will use mean squares to calculate the error term. The algorithim will minimize the error between all points by solving the coefficients of the polynomial.\n",
    "\n",
    "\n",
    "\n",
    "### Define stochastic gradient decent algorithim for polynomial regression"
   ]
  },
  {
   "cell_type": "code",
   "execution_count": 32,
   "metadata": {},
   "outputs": [],
   "source": [
    "#formats X values for polynomial of dimension dim\n",
    "def polynomial_features(x, dim):\n",
    "    return np.column_stack([x ** i for i in range(dim + 1)])\n",
    "\n",
    "def mbd_poly(X, y, dim, epoch, batch_size, learning_rate):\n",
    "    '''\n",
    "    Input:\n",
    "    X    = set of features (what we use to predict)\n",
    "    y    = the label (what we want to predict)\n",
    "    dim  = dimmension of polynomial to solve\n",
    "    epoch = number of itterations to run\n",
    "    batch_size = size of batch per itteration\n",
    "    learning_rate = step size of a itteration\n",
    "    \n",
    "    Returns:\n",
    "    W = predicted coefficients of polynomial\n",
    "    lossHist = loss fxn value at each step\n",
    "    '''\n",
    "    \n",
    "    #format input to fit polynomial of given dimmension\n",
    "    X = polynomial_features(X,dim)\n",
    "    \n",
    "    print(\"[INFO] starting training...\")\n",
    "    #initilize random weights\n",
    "    W = np.random.uniform(size=(dim+1,))\n",
    "    \n",
    "    #to graph effect of epoch\n",
    "    lossHist = []\n",
    "    \n",
    "    for epoch in np.arange(0,epochs):\n",
    "        #find loss of epoch\n",
    "        eLoss = []\n",
    "        \n",
    "        #process batch\n",
    "        for (batchX, batchY) in next_batch(X,y, batch_size):\n",
    "            #dot product of batch of features with weight\n",
    "            wBatch = batchX.dot(W)\n",
    "            \n",
    "            #find error difference from true dataset\n",
    "            error = wBatch - batchY\n",
    "      \n",
    "            #find total loss from sum of squares\n",
    "            loss = np.sum(error ** 2)\n",
    "            eLoss.append(loss)\n",
    "           \n",
    "            #calulate the gradient of the batch\n",
    "            gradient = batchX.T.dot(error) / batchX.shape[0]\n",
    "            \n",
    "            #step in the gradient direction\n",
    "            W += -learning_rate * gradient\n",
    "            \n",
    "        #update loss history\n",
    "        lossHist.append(np.average(eLoss))   \n",
    "    \n",
    "    return W, lossHist"
   ]
  },
  {
   "cell_type": "markdown",
   "metadata": {},
   "source": [
    "### Run algorithim on randomized data"
   ]
  },
  {
   "cell_type": "code",
   "execution_count": 33,
   "metadata": {
    "scrolled": false
   },
   "outputs": [
    {
     "name": "stdout",
     "output_type": "stream",
     "text": [
      "[INFO] starting training...\n"
     ]
    },
    {
     "data": {
      "image/png": "[encoded data removed]",
      "text/plain": [
       "<Figure size 432x288 with 1 Axes>"
      ]
     },
     "metadata": {
      "needs_background": "light"
     },
     "output_type": "display_data"
    },
    {
     "data": {
      "image/png": "[encoded data removed]",
      "text/plain": [
       "<Figure size 432x288 with 1 Axes>"
      ]
     },
     "metadata": {
      "needs_background": "light"
     },
     "output_type": "display_data"
    },
    {
     "name": "stdout",
     "output_type": "stream",
     "text": [
      "predicted polynomial coefficients\n",
      "[ 0.987  0.428 -0.439 -0.091 -0.192]\n",
      "\n",
      "actual coefficients\n",
      "[1, 0.5, -0.5, -0.2, -0.1]\n"
     ]
    },
    {
     "data": {
      "text/plain": [
       "<Figure size 432x288 with 0 Axes>"
      ]
     },
     "metadata": {},
     "output_type": "display_data"
    }
   ],
   "source": [
    "np.random.seed(int(time.time()))\n",
    "#fxn = 1 + 0.5 * x - 0.5 x^2 - 0.2 x^3 - 0.1 x^4\n",
    "coeffs = [1, 0.5, -0.5, -0.2, -0.1]\n",
    "#generate random data around the curve\n",
    "x, y = polynomial_data(coeffs, 100)\n",
    "#show random data\n",
    "\n",
    "y = y.ravel()\n",
    "\n",
    "#parameters for function\n",
    "epoch = 100\n",
    "dim = 4\n",
    "batch_size = 16\n",
    "learning_rate = 0.1\n",
    "\n",
    "#run algorithim\n",
    "W, lossHist = mbd_poly(x, y, dim, epoch, batch_size , learning_rate)\n",
    "\n",
    "#plot prediced curve, true curve, and data\n",
    "plt.scatter(x, y, color='green')\n",
    "plt.xlabel(\"x\")\n",
    "plt.ylabel(\"y\")\n",
    "plot_polynomial(W, color='blue', label='estimated polynomial')\n",
    "plt.legend()\n",
    "\n",
    "#plot error\n",
    "fig = plt.figure()\n",
    "plt.plot(np.arange(epoch), lossHist)\n",
    "fig.suptitle(\"Training Loss\")\n",
    "plt.xlabel(\"Epoch #\")\n",
    "plt.ylabel(\"Loss\")\n",
    "plt.show()\n",
    "\n",
    "fig = plt.figure()\n",
    "\n",
    "print(\"predicted polynomial coefficients\")\n",
    "print(W.flatten())\n",
    "print(\"\\nactual coefficients\")\n",
    "print(coeffs)"
   ]
  },
  {
   "cell_type": "markdown",
   "metadata": {},
   "source": [
    "### Example 2 Observations\n",
    "\n",
    "The algorithim is able to find a W such that the error of between all points near the curve is minimized. We can see from the first plot that the algorithim is able to fit a curve over the dataset that is very close to the original function. Plot 2 shows that the optimal solution converges quickly for the first few iterations,then improvement slows drastically for each consecutive iteration. We can see that the coefficients the algorithim computed are very close to the original function. Of course, the result is also highly dependent on the arrangement of the randomized data.\n"
   ]
  },
  {
   "cell_type": "markdown",
   "metadata": {},
   "source": [
    "Quality of Writing and Mathematical Demonstration (10 points)\n",
    "\n",
    "Communicating about mathematical ideas in written form is a challenging skill to learn.  The author shouldpay attention to writing techniques in the process of producing this paper."
   ]
  }
 ],
 "metadata": {
  "kernelspec": {
   "display_name": "Python 3",
   "language": "python",
   "name": "python3"
  },
  "language_info": {
   "codemirror_mode": {
    "name": "ipython",
    "version": 3
   },
   "file_extension": ".py",
   "mimetype": "text/x-python",
   "name": "python",
   "nbconvert_exporter": "python",
   "pygments_lexer": "ipython3",
   "version": "3.6.8"
  }
 },
 "nbformat": 4,
 "nbformat_minor": 2
}
